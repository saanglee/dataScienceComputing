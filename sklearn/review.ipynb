{
 "cells": [
  {
   "cell_type": "code",
   "execution_count": 1,
   "metadata": {},
   "outputs": [
    {
     "name": "stdout",
     "output_type": "stream",
     "text": [
      "훈련 세트 X: [[9, 10], [5, 6], [1, 2], [7, 8]]\n",
      "테스트 세트 X: [[3, 4]]\n",
      "훈련 세트 y: [0, 0, 0, 1]\n",
      "테스트 세트 y: [1]\n"
     ]
    }
   ],
   "source": [
    "from sklearn.model_selection import train_test_split\n",
    "\n",
    "# 예시 데이터 (특징 데이터 X와 라벨 데이터 y)\n",
    "X = [[1, 2], [3, 4], [5, 6], [7, 8], [9, 10]] # feature data는 실제 데이터의 특징을 나타내는 데이터\n",
    "y = [0, 1, 0, 1, 0]                           # label data는 feature data에 대한 정답을 나타내는 데이터\n",
    "\n",
    "# 데이터 분할 (80% 훈련 세트, 20% 테스트 세트)\n",
    "X_train, X_test, y_train, y_test = train_test_split(X, y, test_size=0.2, random_state=42)\n",
    "# test_size=0.2는 test set의 비율이 20%라는 뜻\n",
    "# random_state는 무작위 분할을 재현하기 위한 난수 초깃값\n",
    "\n",
    "print(\"훈련 세트 X:\", X_train)\n",
    "print(\"테스트 세트 X:\", X_test)\n",
    "\n",
    "print(\"훈련 세트 y:\", y_train)\n",
    "print(\"테스트 세트 y:\", y_test)"
   ]
  },
  {
   "cell_type": "code",
   "execution_count": null,
   "metadata": {},
   "outputs": [],
   "source": []
  }
 ],
 "metadata": {
  "kernelspec": {
   "display_name": "Python 3",
   "language": "python",
   "name": "python3"
  },
  "language_info": {
   "codemirror_mode": {
    "name": "ipython",
    "version": 3
   },
   "file_extension": ".py",
   "mimetype": "text/x-python",
   "name": "python",
   "nbconvert_exporter": "python",
   "pygments_lexer": "ipython3",
   "version": "3.12.3"
  }
 },
 "nbformat": 4,
 "nbformat_minor": 2
}
