{
 "cells": [
  {
   "cell_type": "code",
   "execution_count": 9,
   "metadata": {},
   "outputs": [],
   "source": [
    "import time\n",
    "import numpy as np\n",
    "import pandas as pd\n",
    "from sklearn.model_selection import train_test_split\n",
    "from sklearn.preprocessing import StandardScaler\n",
    "from sklearn.ensemble import RandomForestClassifier\n",
    "from sklearn.metrics import accuracy_score, classification_report, confusion_matrix"
   ]
  },
  {
   "cell_type": "code",
   "execution_count": 10,
   "metadata": {},
   "outputs": [],
   "source": [
    "# Load data\n",
    "data = pd.read_csv('/Users/sangji/Documents/grad/data-science-computing/week7_to_15/week13/laptop_price.csv', encoding='latin1')\n"
   ]
  },
  {
   "cell_type": "code",
   "execution_count": 11,
   "metadata": {},
   "outputs": [
    {
     "data": {
      "text/plain": [
       "{'Training Time (seconds)': 0.10035300254821777,\n",
       " 'Test Accuracy': 0.9272030651340997,\n",
       " 'Classification Report': '              precision    recall  f1-score   support\\n\\n           0       0.93      0.99      0.96       242\\n           1       0.50      0.11      0.17        19\\n\\n    accuracy                           0.93       261\\n   macro avg       0.72      0.55      0.57       261\\nweighted avg       0.90      0.93      0.90       261\\n',\n",
       " 'Confusion Matrix': array([[240,   2],\n",
       "        [ 17,   2]])}"
      ]
     },
     "execution_count": 11,
     "metadata": {},
     "output_type": "execute_result"
    }
   ],
   "source": [
    "# Preprocessing the data\n",
    "# Define the target variable: 1 if 600 <= Price_euros <= 700, else 0\n",
    "data['Target'] = np.where((data['Price_euros'] >= 600) & (data['Price_euros'] <= 700), 1, 0)\n",
    "\n",
    "# Drop irrelevant columns for the model\n",
    "features = data.drop(columns=['laptop_ID', 'Company', 'Product', 'ScreenResolution', 'Cpu', 'Gpu', 'OpSys', 'Price_euros', 'Target'])\n",
    "features = pd.get_dummies(features)\n",
    "\n",
    "# Extract target\n",
    "target = data['Target']\n",
    "\n",
    "# Split the data into training and testing sets\n",
    "X_train, X_test, y_train, y_test = train_test_split(features, target, test_size=0.2, random_state=42)\n",
    "\n",
    "# Standardize the features\n",
    "scaler = StandardScaler()\n",
    "X_train = scaler.fit_transform(X_train)\n",
    "X_test = scaler.transform(X_test)\n",
    "\n",
    "# Train a Random Forest Classifier\n",
    "model = RandomForestClassifier(random_state=42)\n",
    "\n",
    "start_time = time.time()\n",
    "model.fit(X_train, y_train)\n",
    "training_time = time.time() - start_time\n",
    "\n",
    "# Make predictions on the test set\n",
    "y_pred = model.predict(X_test)\n",
    "\n",
    "# Calculate accuracy\n",
    "accuracy = accuracy_score(y_test, y_pred)\n",
    "\n",
    "# Generate evaluation metrics\n",
    "classification_rep = classification_report(y_test, y_pred)\n",
    "conf_matrix = confusion_matrix(y_test, y_pred)\n",
    "\n",
    "# Output the results\n",
    "evaluation_results = {\n",
    "    \"Training Time (seconds)\": training_time,\n",
    "    \"Test Accuracy\": accuracy,\n",
    "    \"Classification Report\": classification_rep,\n",
    "    \"Confusion Matrix\": conf_matrix\n",
    "}\n",
    "\n",
    "evaluation_results"
   ]
  }
 ],
 "metadata": {
  "kernelspec": {
   "display_name": "Python 3",
   "language": "python",
   "name": "python3"
  },
  "language_info": {
   "codemirror_mode": {
    "name": "ipython",
    "version": 3
   },
   "file_extension": ".py",
   "mimetype": "text/x-python",
   "name": "python",
   "nbconvert_exporter": "python",
   "pygments_lexer": "ipython3",
   "version": "3.12.3"
  }
 },
 "nbformat": 4,
 "nbformat_minor": 2
}
