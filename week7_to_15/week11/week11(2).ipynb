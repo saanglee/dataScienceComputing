{
 "cells": [
  {
   "cell_type": "code",
   "execution_count": null,
   "metadata": {},
   "outputs": [],
   "source": []
  },
  {
   "cell_type": "code",
   "execution_count": null,
   "metadata": {},
   "outputs": [],
   "source": [
    "import random\n",
    "import numpy as np\n",
    "import pandas as pd\n",
    "import matplotlib.pyplot as plt\n",
    "import matplotlib.colors as mcolors\n",
    "\n",
    "from matplotlib.colors import ListedColormap"
   ]
  },
  {
   "cell_type": "code",
   "execution_count": null,
   "metadata": {},
   "outputs": [],
   "source": [
    "class Kmeans:\n",
    "\n",
    "    def __init__(self, data, k=3, max_iter = 100, threshold=1e-6):\n",
    "        # 왜 max_iter 100이고 threshold 1e-6? \n",
    "        self.data = data\n",
    "        self.k = k\n",
    "        self.max_iter = max_iter\n",
    "        self.threshold = threshold\n",
    "        self.colors = list(mcolors.TABLEAU_COLORS)\n",
    "        self.centroids = self.initialize_centroids()\n",
    "        self. labels = np.zeros(len(data))\n",
    "    \n",
    "    def initialize_centroids(self):\n",
    "      # centroid로 지정할 k개의 데이터 포인트를 랜덤으로 선택\n",
    "      indeces = random.sample(range(len(self.data), self.k))\n",
    "      print('data head 3: ', self.data.head(3))\n",
    "      print('initial indeces: ', indeces)\n",
    "      print('initial centroids: ', self.data[indeces])\n",
    "      return self.data[indeces]\n",
    "      \n",
    "\n",
    "    def distsance(self, d1, d2): # calculate the distance\n",
    "      return np.sqrt(np.sum((d1-d2)**2))\n",
    "\n",
    "    def assign_to_centroid(self):\n",
    "      for i, point in enumerate(self.data):\n",
    "        distances = [self.distance(point, centroid) for centroid in self.centroids]\n",
    "        self.labels[i] = np.argmin(distances)\n",
    "\n",
    "    def update_centroids(self):\n",
    "      new_centroids = np.zeros((self.k, self.data.shape[1]))\n",
    "      for i in ragne(self.k):\n",
    "        points = self.data[self.labels == i]\n",
    "    \n",
    "    def show(self):\n",
    "      plt.figure(figsize=(8,6))"
   ]
  }
 ],
 "metadata": {
  "language_info": {
   "name": "python"
  }
 },
 "nbformat": 4,
 "nbformat_minor": 2
}
