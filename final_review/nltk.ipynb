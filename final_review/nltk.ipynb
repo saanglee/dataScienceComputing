{
 "cells": [
  {
   "cell_type": "code",
   "execution_count": 1,
   "metadata": {},
   "outputs": [],
   "source": [
    "example_text = \"\"\"\n",
    "    John's big brother is a software engineer. He's been working at Google for 5 years. \n",
    "    They say it's an amazing place to work at! What do you think? Let's see.\n",
    "\"\"\""
   ]
  },
  {
   "cell_type": "code",
   "execution_count": 4,
   "metadata": {},
   "outputs": [],
   "source": [
    "import re               # regular expression library\n",
    "import contractions     # expanding contractions in English\n",
    "import numpy as np\n",
    "\n",
    "import nltk\n",
    "from nltk.stem import WordNetLemmatizer\n",
    "from nltk.corpus import stopwords\n",
    "\n",
    "from collections import Counter\n",
    "from itertools import chain\n",
    "\n",
    "from sklearn.model_selection import train_test_split\n",
    "from sklearn.preprocessing import LabelEncoder          # 범주형 라벨을 수치 형식으로 변환"
   ]
  },
  {
   "cell_type": "code",
   "execution_count": 5,
   "metadata": {},
   "outputs": [
    {
     "data": {
      "text/plain": [
       "'\\n    Johns big brother is a software engineer Hes been working at Google for 5 years \\n    They say its an amazing place to work at What do you think Lets see\\n'"
      ]
     },
     "execution_count": 5,
     "metadata": {},
     "output_type": "execute_result"
    }
   ],
   "source": [
    "text = re.sub(r'[^\\w\\s]', '', example_text)\n",
    "text"
   ]
  },
  {
   "cell_type": "code",
   "execution_count": 7,
   "metadata": {},
   "outputs": [
    {
     "data": {
      "text/plain": [
       "'\\n    johns big brother is a software engineer hes been working at google for 5 years \\n    they say its an amazing place to work at what do you think let us see\\n'"
      ]
     },
     "execution_count": 7,
     "metadata": {},
     "output_type": "execute_result"
    }
   ],
   "source": [
    "text = contractions.fix(text)\n",
    "text = text.lower()\n",
    "text\n"
   ]
  },
  {
   "cell_type": "code",
   "execution_count": 11,
   "metadata": {},
   "outputs": [
    {
     "name": "stderr",
     "output_type": "stream",
     "text": [
      "[nltk_data] Downloading package stopwords to\n",
      "[nltk_data]     /Users/sangji/nltk_data...\n",
      "[nltk_data]   Unzipping corpora/stopwords.zip.\n",
      "[nltk_data] Downloading package wordnet to /Users/sangji/nltk_data...\n",
      "[nltk_data] Downloading package punkt to /Users/sangji/nltk_data...\n",
      "[nltk_data]   Unzipping tokenizers/punkt.zip.\n"
     ]
    },
    {
     "data": {
      "text/plain": [
       "True"
      ]
     },
     "execution_count": 11,
     "metadata": {},
     "output_type": "execute_result"
    }
   ],
   "source": [
    "nltk.download('stopwords')\n",
    "nltk.download('wordnet')\n",
    "nltk.download('punkt')"
   ]
  },
  {
   "cell_type": "code",
   "execution_count": 13,
   "metadata": {},
   "outputs": [],
   "source": [
    "words = nltk.word_tokenize(text)"
   ]
  },
  {
   "cell_type": "code",
   "execution_count": 14,
   "metadata": {},
   "outputs": [
    {
     "data": {
      "text/plain": [
       "['johns',\n",
       " 'big',\n",
       " 'brother',\n",
       " 'is',\n",
       " 'a',\n",
       " 'software',\n",
       " 'engineer',\n",
       " 'hes',\n",
       " 'been',\n",
       " 'working',\n",
       " 'at',\n",
       " 'google',\n",
       " 'for',\n",
       " '5',\n",
       " 'years',\n",
       " 'they',\n",
       " 'say',\n",
       " 'its',\n",
       " 'an',\n",
       " 'amazing',\n",
       " 'place',\n",
       " 'to',\n",
       " 'work',\n",
       " 'at',\n",
       " 'what',\n",
       " 'do',\n",
       " 'you',\n",
       " 'think',\n",
       " 'let',\n",
       " 'us',\n",
       " 'see']"
      ]
     },
     "execution_count": 14,
     "metadata": {},
     "output_type": "execute_result"
    }
   ],
   "source": [
    "words"
   ]
  },
  {
   "cell_type": "code",
   "execution_count": 15,
   "metadata": {},
   "outputs": [
    {
     "data": {
      "text/plain": [
       "['johns',\n",
       " 'big',\n",
       " 'brother',\n",
       " 'software',\n",
       " 'engineer',\n",
       " 'hes',\n",
       " 'working',\n",
       " 'google',\n",
       " '5',\n",
       " 'years',\n",
       " 'say',\n",
       " 'amazing',\n",
       " 'place',\n",
       " 'work',\n",
       " 'think',\n",
       " 'let',\n",
       " 'us',\n",
       " 'see']"
      ]
     },
     "execution_count": 15,
     "metadata": {},
     "output_type": "execute_result"
    }
   ],
   "source": [
    "stop_words = set(stopwords.words('english'))\n",
    "words = [word for word in words if word not in stop_words]\n",
    "words"
   ]
  },
  {
   "cell_type": "code",
   "execution_count": 16,
   "metadata": {},
   "outputs": [
    {
     "data": {
      "text/plain": [
       "'johns big brother software engineer hes working google 5 years say amazing place work think let us see'"
      ]
     },
     "execution_count": 16,
     "metadata": {},
     "output_type": "execute_result"
    }
   ],
   "source": [
    "clean_text = ' '.join(words)\n",
    "clean_text"
   ]
  },
  {
   "cell_type": "code",
   "execution_count": null,
   "metadata": {},
   "outputs": [],
   "source": []
  }
 ],
 "metadata": {
  "kernelspec": {
   "display_name": "Python 3",
   "language": "python",
   "name": "python3"
  },
  "language_info": {
   "codemirror_mode": {
    "name": "ipython",
    "version": 3
   },
   "file_extension": ".py",
   "mimetype": "text/x-python",
   "name": "python",
   "nbconvert_exporter": "python",
   "pygments_lexer": "ipython3",
   "version": "3.12.3"
  }
 },
 "nbformat": 4,
 "nbformat_minor": 2
}
