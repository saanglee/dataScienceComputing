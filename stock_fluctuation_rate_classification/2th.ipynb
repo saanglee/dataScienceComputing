{
 "cells": [
  {
   "cell_type": "code",
   "execution_count": 4,
   "metadata": {},
   "outputs": [
    {
     "name": "stdout",
     "output_type": "stream",
     "text": [
      "Train DataFrame:\n",
      "   id        현재가      전일비    액면가     시가총액      상장주식수  외국인비율          거래량  \\\n",
      "0   0   2351.703  116.656  500.0  832.124  35392.000  1.658  2706392.610   \n",
      "1   1  11687.402   51.515    0.0  304.111   2600.000  0.490    50847.441   \n",
      "2   2   3100.000    0.000  500.0  969.000  31257.000  0.370        0.000   \n",
      "3   3   9408.961  254.445    0.0  292.195   3105.573  1.905   132966.463   \n",
      "4   4   2226.067  114.968  100.0  605.343  27191.000  2.551   522215.695   \n",
      "\n",
      "      PER    ROE  label  \n",
      "0  19.116   6.50      0  \n",
      "1     NaN    NaN      0  \n",
      "2   7.088  18.71      1  \n",
      "3     NaN    NaN      0  \n",
      "4     NaN    NaN      2  \n",
      "\n",
      "Test DataFrame:\n",
      "   id        현재가      전일비     액면가       시가총액     상장주식수  외국인비율         거래량  \\\n",
      "0   0  65198.863  304.482     0.0   1212.443    1860.0  0.081    4793.170   \n",
      "1   1   6406.595  171.084   500.0   3711.403   57931.0  1.209  282689.080   \n",
      "2   2   4555.651  217.911   500.0   1596.002   35038.0  5.360  214691.924   \n",
      "3   3  25048.754  490.409  5000.0  26874.700  107291.0  4.048  418903.868   \n",
      "4   4   6526.482   22.684   500.0   1165.662   17858.0  0.959   10646.274   \n",
      "\n",
      "       PER     ROE  \n",
      "0      NaN     NaN  \n",
      "1   17.645   22.02  \n",
      "2 -216.934     NaN  \n",
      "3   -1.540 -117.79  \n",
      "4  -25.100   -1.96  \n",
      "\n",
      "Sample Submission DataFrame:\n",
      "   id  label\n",
      "0   0      0\n",
      "1   1      0\n",
      "2   2      0\n",
      "3   3      0\n",
      "4   4      0\n"
     ]
    }
   ],
   "source": [
    "import pandas as pd\n",
    "\n",
    "# train_data = pd.read_csv('./data/train.csv')\n",
    "# test_data = pd.read_csv('./data/test.csv')\n",
    "# sample_submission = pd.read_csv('./data/sample_submission.csv')\n",
    "\n",
    "# Load datasets\n",
    "train_path = './data/train.csv'\n",
    "test_path = './data/test.csv'\n",
    "sample_submission_path = './data/sample_submission.csv'\n",
    "\n",
    "train_df = pd.read_csv(train_path)\n",
    "test_df = pd.read_csv(test_path)\n",
    "sample_submission_df = pd.read_csv(sample_submission_path)\n",
    "\n",
    "# Display the first few rows of each dataset\n",
    "print(\"Train DataFrame:\")\n",
    "print(train_df.head())\n",
    "print(\"\\nTest DataFrame:\")\n",
    "print(test_df.head())\n",
    "print(\"\\nSample Submission DataFrame:\")\n",
    "print(sample_submission_df.head())"
   ]
  },
  {
   "cell_type": "code",
   "execution_count": 5,
   "metadata": {},
   "outputs": [
    {
     "name": "stdout",
     "output_type": "stream",
     "text": [
      "Validation Accuracy: 0.6285714285714286\n",
      "Submission file saved as 'submission.csv'\n"
     ]
    }
   ],
   "source": [
    "from sklearn.model_selection import train_test_split\n",
    "from sklearn.ensemble import RandomForestClassifier\n",
    "from sklearn.metrics import accuracy_score\n",
    "\n",
    "# Preprocessing\n",
    "def preprocess_data(df):\n",
    "    df = df.copy()\n",
    "    # Handle missing values\n",
    "    df = df.fillna(df.mean())\n",
    "    # Convert categorical columns to numerical if there are any (assuming 'label' is the target)\n",
    "    if 'label' in df.columns:\n",
    "        df = pd.get_dummies(df, columns=[col for col in df.columns if df[col].dtype == 'object' and col != 'label'])\n",
    "    else:\n",
    "        df = pd.get_dummies(df, columns=[col for col in df.columns if df[col].dtype == 'object'])\n",
    "    return df\n",
    "\n",
    "train_df = preprocess_data(train_df)\n",
    "test_df = preprocess_data(test_df)\n",
    "\n",
    "# Split features and target\n",
    "X = train_df.drop('label', axis=1)\n",
    "y = train_df['label']\n",
    "\n",
    "# Split into training and validation sets\n",
    "X_train, X_val, y_train, y_val = train_test_split(X, y, test_size=0.2, random_state=42)\n",
    "\n",
    "# Model training\n",
    "model = RandomForestClassifier(random_state=42)\n",
    "model.fit(X_train, y_train)\n",
    "\n",
    "# Validation\n",
    "y_val_pred = model.predict(X_val)\n",
    "val_accuracy = accuracy_score(y_val, y_val_pred)\n",
    "print(f'Validation Accuracy: {val_accuracy}')\n",
    "\n",
    "# Predictions on test set\n",
    "test_predictions = model.predict(test_df)\n",
    "\n",
    "# Prepare submission\n",
    "submission_df = sample_submission_df.copy()\n",
    "submission_df['label'] = test_predictions\n",
    "submission_df['label'] = submission_df['label'].astype(int)\n",
    "\n",
    "# Save submission\n",
    "submission_df.to_csv('./data/submission.csv', index=False)\n",
    "print(\"Submission file saved as 'submission.csv'\")\n"
   ]
  }
 ],
 "metadata": {
  "kernelspec": {
   "display_name": "Python 3",
   "language": "python",
   "name": "python3"
  },
  "language_info": {
   "codemirror_mode": {
    "name": "ipython",
    "version": 3
   },
   "file_extension": ".py",
   "mimetype": "text/x-python",
   "name": "python",
   "nbconvert_exporter": "python",
   "pygments_lexer": "ipython3",
   "version": "3.9.6"
  }
 },
 "nbformat": 4,
 "nbformat_minor": 2
}
